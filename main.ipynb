{
 "cells": [
  {
   "cell_type": "code",
   "execution_count": 27,
   "metadata": {},
   "outputs": [],
   "source": [
    "nao_local=\"172.9.0.86\""
   ]
  },
  {
   "cell_type": "code",
   "execution_count": 28,
   "metadata": {},
   "outputs": [],
   "source": [
    "from naoqi import ALProxy\n",
    "tts = ALProxy(\"ALTextToSpeech\", nao_local, 9559)\n",
    "tts.say(\"Olha quem tá aiiiii, voltou né vagabundo?\")"
   ]
  },
  {
   "cell_type": "markdown",
   "metadata": {},
   "source": [
    "# Move and Speak\n",
    "http://doc.aldebaran.com/1-14/dev/python/making_nao_move.html"
   ]
  },
  {
   "cell_type": "code",
   "execution_count": 48,
   "metadata": {},
   "outputs": [],
   "source": [
    "from naoqi import ALProxy\n",
    "motion = ALProxy(\"ALMotion\", nao_local, 9559)\n",
    "motion.setStiffnesses(\"Body\", 1.0)"
   ]
  },
  {
   "cell_type": "code",
   "execution_count": 49,
   "metadata": {},
   "outputs": [
    {
     "data": {
      "text/plain": [
       "True"
      ]
     },
     "execution_count": 49,
     "metadata": {},
     "output_type": "execute_result"
    }
   ],
   "source": [
    "from naoqi import ALProxy\n",
    "motion = ALProxy(\"ALMotion\", nao_local, 9559)\n",
    "# put in correct position \n",
    "motion.moveInit()\n",
    "'''\n",
    "x – Distance along the X axis in meters.\n",
    "y – Distance along the Y axis in meters.\n",
    "theta – Rotation around the Z axis in radians [-3.1415 to 3.1415].\n",
    "'''\n",
    "motion.moveTo(0.5,0,0) "
   ]
  },
  {
   "cell_type": "code",
   "execution_count": 27,
   "metadata": {},
   "outputs": [],
   "source": [
    "from naoqi import ALProxy\n",
    "motion = ALProxy(\"ALMotion\", \"nao.local\", 9559)\n",
    "tts    = ALProxy(\"ALTextToSpeech\", \"nao.local\", 9559)\n",
    "motion.moveInit()\n",
    "motion.post.moveTo(0.5, 0, 0)\n",
    "tts.say(\"Estou andando\")"
   ]
  },
  {
   "cell_type": "code",
   "execution_count": 32,
   "metadata": {},
   "outputs": [],
   "source": [
    "from naoqi import ALProxy\n",
    "motion = ALProxy(\"ALMotion\", \"nao.local\", 9559)\n",
    "tts    = ALProxy(\"ALTextToSpeech\", \"nao.local\", 9559)\n",
    "motion.moveInit()\n",
    "id = motion.post.moveTo(0.5, 0, 0)\n",
    "motion.wait(id,0)\n",
    "tts.say(\"Ufa! Cansei preciso fazer mais exercícios\")"
   ]
  },
  {
   "cell_type": "markdown",
   "metadata": {},
   "source": [
    "# Reacting to events \n",
    "http://doc.aldebaran.com/1-14/dev/python/reacting_to_events.html"
   ]
  },
  {
   "cell_type": "code",
   "execution_count": null,
   "metadata": {},
   "outputs": [],
   "source": [
    "# -*- encoding: UTF-8 -*-\n",
    "\"\"\" Say 'hello, you' each time a human face is detected\n",
    "\n",
    "\"\"\"\n",
    "\n",
    "import sys\n",
    "import time\n",
    "\n",
    "from naoqi import ALProxy\n",
    "from naoqi import ALBroker\n",
    "from naoqi import ALModule\n",
    "\n",
    "from optparse import OptionParser\n",
    "\n",
    "NAO_IP = nao_local\n",
    "\n",
    "\n",
    "# Global variable to store the HumanGreeter module instance\n",
    "HumanGreeter = None\n",
    "memory = None\n",
    "\n",
    "\n",
    "class HumanGreeterModule(ALModule):\n",
    "    \"\"\" A simple module able to react\n",
    "    to facedetection events\n",
    "\n",
    "    \"\"\"\n",
    "    def __init__(self, name):\n",
    "        ALModule.__init__(self, name)\n",
    "        # No need for IP and port here because\n",
    "        # we have our Python broker connected to NAOqi broker\n",
    "\n",
    "        # Create a proxy to ALTextToSpeech for later use\n",
    "        self.tts = ALProxy(\"ALTextToSpeech\")\n",
    "\n",
    "        # Subscribe to the FaceDetected event:\n",
    "        global memory\n",
    "        memory = ALProxy(\"ALMemory\")\n",
    "        memory.subscribeToEvent(\"FaceDetected\",\n",
    "            \"HumanGreeter\",\n",
    "            \"onFaceDetected\")\n",
    "\n",
    "    def onFaceDetected(self, *_args):\n",
    "        \"\"\" This will be called each time a face is\n",
    "        detected.\n",
    "\n",
    "        \"\"\"\n",
    "        # Unsubscribe to the event when talking,\n",
    "        # to avoid repetitions\n",
    "        memory.unsubscribeToEvent(\"FaceDetected\",\n",
    "            \"HumanGreeter\")\n",
    "\n",
    "        self.tts.say(\"Olha você ai\")\n",
    "\n",
    "        # Subscribe again to the event\n",
    "        memory.subscribeToEvent(\"FaceDetected\",\n",
    "            \"HumanGreeter\",\n",
    "            \"onFaceDetected\")\n",
    "\n",
    "\n",
    "def main():\n",
    "    \"\"\" Main entry point\n",
    "\n",
    "    \"\"\"\n",
    "    parser = OptionParser()\n",
    "    parser.add_option(\"--pip\",\n",
    "        help=\"Parent broker port. The IP address or your robot\",\n",
    "        dest=\"pip\")\n",
    "    parser.add_option(\"--pport\",\n",
    "        help=\"Parent broker port. The port NAOqi is listening to\",\n",
    "        dest=\"pport\",\n",
    "        type=\"int\")\n",
    "    parser.set_defaults(\n",
    "        pip=NAO_IP,\n",
    "        pport=9559)\n",
    "\n",
    "    (opts, args_) = parser.parse_args()\n",
    "    pip   = opts.pip\n",
    "    pport = opts.pport\n",
    "\n",
    "    # We need this broker to be able to construct\n",
    "    # NAOqi modules and subscribe to other modules\n",
    "    # The broker must stay alive until the program exists\n",
    "    myBroker = ALBroker(\"myBroker\",\n",
    "       \"0.0.0.0\",   # listen to anyone\n",
    "       0,           # find a free port and use it\n",
    "       pip,         # parent broker IP\n",
    "       pport)       # parent broker port\n",
    "\n",
    "\n",
    "    # Warning: HumanGreeter must be a global variable\n",
    "    # The name given to the constructor must be the name of the\n",
    "    # variable\n",
    "    global HumanGreeter\n",
    "    HumanGreeter = HumanGreeterModule(\"HumanGreeter\")\n",
    "\n",
    "    try:\n",
    "        while True:\n",
    "            time.sleep(1)\n",
    "    except KeyboardInterrupt:\n",
    "        print\n",
    "        print \"Interrupted by user, shutting down\"\n",
    "        myBroker.shutdown()\n",
    "        sys.exit(0)\n",
    "\n",
    "\n",
    "if __name__ == \"__main__\":\n",
    "    main()"
   ]
  },
  {
   "cell_type": "code",
   "execution_count": 40,
   "metadata": {},
   "outputs": [],
   "source": [
    "class MyModule:\n",
    "\n",
    "  # This method will be bound:\n",
    "  def myMethod(self):\n",
    "    \"\"\" does this and that \"\"\"\n",
    "    pass\n",
    "\n",
    "  # This will NOT be bound:\n",
    "  def myMethod(self):\n",
    "    if foo:\n",
    "      pass\n",
    "\n",
    "  # This will also NOT be bound\n",
    "  def _myMethod(self):\n",
    "    pass"
   ]
  },
  {
   "cell_type": "markdown",
   "metadata": {},
   "source": [
    "# Capture Image"
   ]
  },
  {
   "cell_type": "code",
   "execution_count": 34,
   "metadata": {},
   "outputs": [],
   "source": [
    "# This test demonstrates how to use the ALPhotoCapture module.\n",
    "# Note that you might not have this module depending on your distribution\n",
    "import os\n",
    "import sys\n",
    "import time\n",
    "from naoqi import ALProxy\n",
    "\n",
    "# Replace this with your robot's IP address\n",
    "IP = \"172.9.0.86\"\n",
    "PORT = 9559\n",
    "\n",
    "# Create a proxy to ALPhotoCapture\n",
    "try:\n",
    "  photoCaptureProxy = ALProxy(\"ALPhotoCapture\", IP, PORT)\n",
    "except Exception, e:\n",
    "  print \"Error when creating ALPhotoCapture proxy:\"\n",
    "  print str(e)\n",
    "  # exit(1)"
   ]
  },
  {
   "cell_type": "code",
   "execution_count": 35,
   "metadata": {},
   "outputs": [
    {
     "data": {
      "text/plain": [
       "['/home/nao/recordings/cameras/image.jpg']"
      ]
     },
     "execution_count": 35,
     "metadata": {},
     "output_type": "execute_result"
    }
   ],
   "source": [
    "photoCaptureProxy.setResolution(2)\n",
    "photoCaptureProxy.setPictureFormat(\"jpg\")\n",
    "photoCaptureProxy.takePicture(\"/home/nao/recordings/cameras/\", \"image\")"
   ]
  },
  {
   "cell_type": "code",
   "execution_count": 39,
   "metadata": {},
   "outputs": [
    {
     "name": "stdout",
     "output_type": "stream",
     "text": [
      "Creating ALVideoDevice proxy to  nao.local\n"
     ]
    }
   ],
   "source": [
    "# -*- encoding: UTF-8 -*-\n",
    "\n",
    "# This is just an example script that shows how images can be accessed\n",
    "# through ALVideoDevice in python.\n",
    "# Nothing interesting is done with the images in this example.\n",
    "\n",
    "from naoqi import ALProxy\n",
    "import vision_definitions\n",
    "\n",
    "IP = \"nao.local\"  # Replace here with your NAOqi's IP address.\n",
    "PORT = 9559\n",
    "\n",
    "####\n",
    "# Create proxy on ALVideoDevice\n",
    "\n",
    "print \"Creating ALVideoDevice proxy to \", IP\n",
    "\n"
   ]
  },
  {
   "cell_type": "code",
   "execution_count": 41,
   "metadata": {},
   "outputs": [],
   "source": [
    "camProxy = ALProxy(\"ALVideoDevice\", IP, PORT)\n",
    "\n",
    "####\n",
    "# Register a Generic Video Module\n",
    "\n",
    "resolution = vision_definitions.kQVGA\n",
    "colorSpace = vision_definitions.kYUVColorSpace\n",
    "fps = 30\n",
    "\n"
   ]
  },
  {
   "cell_type": "code",
   "execution_count": 38,
   "metadata": {},
   "outputs": [
    {
     "ename": "RuntimeError",
     "evalue": "\tALVideoDevice::subscribe\n\tCan't find method: subscribe (resolved to '(siii)')\n",
     "output_type": "error",
     "traceback": [
      "\u001b[0;31m\u001b[0m",
      "\u001b[0;31mRuntimeError\u001b[0mTraceback (most recent call last)",
      "\u001b[0;32m<ipython-input-38-61ee267bc448>\u001b[0m in \u001b[0;36m<module>\u001b[0;34m()\u001b[0m\n\u001b[0;32m----> 1\u001b[0;31m \u001b[0mnameId\u001b[0m \u001b[0;34m=\u001b[0m \u001b[0mcamProxy\u001b[0m\u001b[0;34m.\u001b[0m\u001b[0msubscribe\u001b[0m\u001b[0;34m(\u001b[0m\u001b[0;34m\"python_GVM\"\u001b[0m\u001b[0;34m,\u001b[0m \u001b[0mresolution\u001b[0m\u001b[0;34m,\u001b[0m \u001b[0mcolorSpace\u001b[0m\u001b[0;34m,\u001b[0m \u001b[0mfps\u001b[0m\u001b[0;34m)\u001b[0m\u001b[0;34m\u001b[0m\u001b[0m\n\u001b[0m\u001b[1;32m      2\u001b[0m \u001b[0;32mprint\u001b[0m \u001b[0mnameId\u001b[0m\u001b[0;34m\u001b[0m\u001b[0m\n\u001b[1;32m      3\u001b[0m \u001b[0;34m\u001b[0m\u001b[0m\n\u001b[1;32m      4\u001b[0m \u001b[0;32mprint\u001b[0m \u001b[0;34m'getting images in local'\u001b[0m\u001b[0;34m\u001b[0m\u001b[0m\n",
      "\u001b[0;32m/Users/adsonalves/Desktop/NAO-NPL/pynaoqi-python2.7/lib/python2.7/site-packages/naoqi.pyc\u001b[0m in \u001b[0;36m__call__\u001b[0;34m(self, *args, **kwargs)\u001b[0m\n\u001b[1;32m    192\u001b[0m                     \u001b[0mself\u001b[0m\u001b[0;34m.\u001b[0m\u001b[0m__method__\u001b[0m \u001b[0;34m=\u001b[0m \u001b[0mmethod\u001b[0m\u001b[0;34m\u001b[0m\u001b[0m\n\u001b[1;32m    193\u001b[0m                 \u001b[0;32mdef\u001b[0m \u001b[0m__call__\u001b[0m\u001b[0;34m(\u001b[0m\u001b[0mself\u001b[0m\u001b[0;34m,\u001b[0m \u001b[0;34m*\u001b[0m\u001b[0margs\u001b[0m\u001b[0;34m,\u001b[0m \u001b[0;34m**\u001b[0m\u001b[0mkwargs\u001b[0m\u001b[0;34m)\u001b[0m\u001b[0;34m:\u001b[0m\u001b[0;34m\u001b[0m\u001b[0m\n\u001b[0;32m--> 194\u001b[0;31m                     \u001b[0;32mreturn\u001b[0m \u001b[0mself\u001b[0m\u001b[0;34m.\u001b[0m\u001b[0m__wrapped__\u001b[0m\u001b[0;34m.\u001b[0m\u001b[0mmethod_missing\u001b[0m\u001b[0;34m(\u001b[0m\u001b[0mself\u001b[0m\u001b[0;34m.\u001b[0m\u001b[0m__method__\u001b[0m\u001b[0;34m,\u001b[0m \u001b[0;34m*\u001b[0m\u001b[0margs\u001b[0m\u001b[0;34m,\u001b[0m \u001b[0;34m**\u001b[0m\u001b[0mkwargs\u001b[0m\u001b[0;34m)\u001b[0m\u001b[0;34m\u001b[0m\u001b[0m\n\u001b[0m\u001b[1;32m    195\u001b[0m \u001b[0;34m\u001b[0m\u001b[0m\n\u001b[1;32m    196\u001b[0m             \u001b[0;32mreturn\u001b[0m \u001b[0mMethodMissing\u001b[0m\u001b[0;34m(\u001b[0m\u001b[0mself\u001b[0m\u001b[0;34m,\u001b[0m \u001b[0mattr\u001b[0m\u001b[0;34m)\u001b[0m\u001b[0;34m\u001b[0m\u001b[0m\n",
      "\u001b[0;32m/Users/adsonalves/Desktop/NAO-NPL/pynaoqi-python2.7/lib/python2.7/site-packages/naoqi.pyc\u001b[0m in \u001b[0;36mmethod_missing\u001b[0;34m(self, method, *args, **kwargs)\u001b[0m\n\u001b[1;32m    262\u001b[0m                 \u001b[0mresult\u001b[0m \u001b[0;34m=\u001b[0m \u001b[0mself\u001b[0m\u001b[0;34m.\u001b[0m\u001b[0mpythonCall\u001b[0m\u001b[0;34m(\u001b[0m\u001b[0mlist\u001b[0m\u001b[0;34m)\u001b[0m\u001b[0;34m\u001b[0m\u001b[0m\n\u001b[1;32m    263\u001b[0m           \u001b[0;32mexcept\u001b[0m \u001b[0mRuntimeError\u001b[0m\u001b[0;34m,\u001b[0m\u001b[0me\u001b[0m\u001b[0;34m:\u001b[0m\u001b[0;34m\u001b[0m\u001b[0m\n\u001b[0;32m--> 264\u001b[0;31m                 \u001b[0;32mraise\u001b[0m \u001b[0me\u001b[0m\u001b[0;34m\u001b[0m\u001b[0m\n\u001b[0m\u001b[1;32m    265\u001b[0m                 \u001b[0;31m#print e.args[0]\u001b[0m\u001b[0;34m\u001b[0m\u001b[0;34m\u001b[0m\u001b[0m\n\u001b[1;32m    266\u001b[0m \u001b[0;34m\u001b[0m\u001b[0m\n",
      "\u001b[0;31mRuntimeError\u001b[0m: \tALVideoDevice::subscribe\n\tCan't find method: subscribe (resolved to '(siii)')\n"
     ]
    }
   ],
   "source": [
    "nameId = camProxy.subscribe(\"python_GVM\", resolution, colorSpace, fps)\n",
    "print nameId\n",
    "\n",
    "print 'getting images in local'\n"
   ]
  },
  {
   "cell_type": "code",
   "execution_count": null,
   "metadata": {},
   "outputs": [],
   "source": [
    "for i in range(0, 20):\n",
    "  camProxy.getImageLocal(nameId)\n",
    "  camProxy.releaseImage(nameId)\n",
    "\n",
    "resolution = vision_definitions.kQQVGA\n",
    "camProxy.setResolution(nameId, resolution)\n",
    "\n",
    "print 'getting images in remote'\n",
    "for i in range(0, 20):\n",
    "  camProxy.getImageRemote(nameId)\n",
    "\n",
    "camProxy.unsubscribe(nameId)\n",
    "\n",
    "print 'end of gvm_getImageLocal python script'"
   ]
  }
 ],
 "metadata": {
  "kernelspec": {
   "display_name": "robot_nao",
   "language": "python",
   "name": "python3"
  },
  "language_info": {
   "codemirror_mode": {
    "name": "ipython",
    "version": 2
   },
   "file_extension": ".py",
   "mimetype": "text/x-python",
   "name": "python",
   "nbconvert_exporter": "python",
   "pygments_lexer": "ipython2",
   "version": "2.7.18"
  }
 },
 "nbformat": 4,
 "nbformat_minor": 2
}
